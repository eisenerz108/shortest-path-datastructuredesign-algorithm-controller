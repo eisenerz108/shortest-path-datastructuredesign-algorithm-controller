{
 "cells": [
  {
   "cell_type": "code",
   "execution_count": 1,
   "id": "51397747",
   "metadata": {},
   "outputs": [],
   "source": [
    "import datenstruktur\n",
    "from datenstruktur.graph import *\n",
    "from datenstruktur.node import *\n",
    "from datenstruktur.edge import *"
   ]
  },
  {
   "cell_type": "code",
   "execution_count": 2,
   "id": "32bf6f43",
   "metadata": {},
   "outputs": [],
   "source": [
    "beispiel_graph = Graph()\n",
    "beispiel_graph = DirectedGraph()\n",
    "beispiel_graph = WeightedGraph()\n",
    "beispiel_graph = WeightedDirectedGraph()\n",
    "\n",
    "\n",
    "beispiel_graph = BipartiteGraph()\n",
    "beispiel_graph = WeightedDirectedBipartiteGraph()\n",
    "beispiel_graph = DirectedBipartiteGraph()\n",
    "beispiel_graph = WeightedBipartiteGraph()\n",
    "\n",
    "beispiel_graph = create_graph(False,True,False)"
   ]
  },
  {
   "cell_type": "code",
   "execution_count": 45,
   "id": "a9573f0c",
   "metadata": {},
   "outputs": [],
   "source": [
    "def präsentation_add_nodes():\n",
    "\n",
    "    erstes_node = beispiel_graph.add_node(\"erstes Node\")\n",
    "\n",
    "\n",
    "    zweites_node = Node(\"zweites Node\")\n",
    "    zweites_node = beispiel_graph.add_node(zweites_node)\n",
    "\n",
    "\n",
    "    beispiel_graph.add_nodes([\"drittes Node\", \"viertes Node\"])\n",
    "\n",
    "\n",
    "    print(beispiel_graph.nodes)"
   ]
  },
  {
   "cell_type": "code",
   "execution_count": 8,
   "id": "6a3f7718",
   "metadata": {},
   "outputs": [
    {
     "name": "stdout",
     "output_type": "stream",
     "text": [
      "{Node(erstes Node), Node(zweites Node), Node(drittes Node), Node(viertes Node)}\n"
     ]
    }
   ],
   "source": [
    "präsentation_add_nodes()"
   ]
  },
  {
   "cell_type": "code",
   "execution_count": 17,
   "id": "a398e1dc",
   "metadata": {},
   "outputs": [],
   "source": [
    "def präsentation_remove_nodes():\n",
    "\n",
    "    erstes_node = beispiel_graph.get_node_by_label(\"erstes Node\") # nicht in Interfaces enthalten\n",
    "\n",
    "\n",
    "    beispiel_graph.remove_node(erstes_node)\n",
    "\n",
    "    print(beispiel_graph.nodes)"
   ]
  },
  {
   "cell_type": "code",
   "execution_count": 23,
   "id": "486621bf",
   "metadata": {},
   "outputs": [
    {
     "name": "stdout",
     "output_type": "stream",
     "text": [
      "{Node(zweites Node), Node(drittes Node), Node(viertes Node)}\n"
     ]
    }
   ],
   "source": [
    "präsentation_remove_nodes()"
   ]
  },
  {
   "cell_type": "code",
   "execution_count": 18,
   "id": "9f545912",
   "metadata": {},
   "outputs": [],
   "source": [
    "def präsentation_neighbours():\n",
    "    zweites_node = beispiel_graph.get_node_by_label(\"zweites Node\") # nicht in Interfaces enthalten\n",
    "    drittes_node = beispiel_graph.get_node_by_label(\"drittes Node\") # nicht in Interfaces enthalten\n",
    "\n",
    "\n",
    "    nachbarn = beispiel_graph.get_node_neighbours(zweites_node)\n",
    "    print (nachbarn)\n",
    "\n",
    "    nachbarn = zweites_node.get_neighbours()\n",
    "    print (nachbarn)\n",
    "\n",
    "\n",
    "    zweites_node.degree\n",
    "    zweites_node.in_degree\n",
    "    zweites_node.out_degree\n",
    "    \n",
    "    print(zweites_node.has_edge(drittes_node))"
   ]
  },
  {
   "cell_type": "code",
   "execution_count": 24,
   "id": "006d7b48",
   "metadata": {},
   "outputs": [
    {
     "name": "stdout",
     "output_type": "stream",
     "text": [
      "set()\n",
      "[]\n",
      "False\n"
     ]
    }
   ],
   "source": [
    "präsentation_neighbours()"
   ]
  },
  {
   "cell_type": "code",
   "execution_count": 19,
   "id": "3085b1be",
   "metadata": {},
   "outputs": [],
   "source": [
    "def präsentation_info():\n",
    "    beispiel_graph.info = \"Test\"\n",
    "    print(beispiel_graph.info)"
   ]
  },
  {
   "cell_type": "code",
   "execution_count": 25,
   "id": "aa4f2f23",
   "metadata": {},
   "outputs": [
    {
     "name": "stdout",
     "output_type": "stream",
     "text": [
      "Test\n"
     ]
    }
   ],
   "source": [
    "präsentation_info()"
   ]
  },
  {
   "cell_type": "code",
   "execution_count": 20,
   "id": "65af3b7e",
   "metadata": {},
   "outputs": [],
   "source": [
    "def präsentation_graph():\n",
    "\n",
    "    zweites_node = beispiel_graph.get_node_by_label(\"zweites Node\") # nicht in Interfaces enthalten\n",
    "\n",
    "\n",
    "    beispiel_graph.detect_cycle()\n",
    "\n",
    "    beispiel_graph.breadth_first_search(zweites_node)\n",
    "\n",
    "    beispiel_graph.depth_first_search(zweites_node)\n",
    "\n",
    "    beispiel_graph.get_connected_components()"
   ]
  },
  {
   "cell_type": "code",
   "execution_count": 26,
   "id": "f7de908a",
   "metadata": {},
   "outputs": [],
   "source": [
    "präsentation_graph()"
   ]
  },
  {
   "cell_type": "code",
   "execution_count": 21,
   "id": "095b1028",
   "metadata": {},
   "outputs": [],
   "source": [
    "def präsentation_topological():\n",
    "    beispiel_graph = DirectedGraph()\n",
    "\n",
    "    beispiel_graph.topological_sort()\n"
   ]
  },
  {
   "cell_type": "code",
   "execution_count": 27,
   "id": "bef543b4",
   "metadata": {},
   "outputs": [],
   "source": [
    "präsentation_topological()"
   ]
  },
  {
   "cell_type": "markdown",
   "id": "95fe2100",
   "metadata": {},
   "source": [
    "Direkt durch nodes"
   ]
  },
  {
   "cell_type": "markdown",
   "id": "e3cd2d27",
   "metadata": {},
   "source": [
    "## Kanten"
   ]
  },
  {
   "cell_type": "code",
   "execution_count": 49,
   "id": "64932e1a",
   "metadata": {},
   "outputs": [
    {
     "name": "stdout",
     "output_type": "stream",
     "text": [
      "{Node(erstes Node), Node(zweites Node), Node(drittes Node), Node(viertes Node)}\n"
     ]
    }
   ],
   "source": [
    "beispiel_graph = create_graph(False,True,False)\n",
    "\n",
    "präsentation_add_nodes()\n",
    "erstes_node = beispiel_graph.get_node_by_label(\"erstes Node\")\n",
    "zweites_node = beispiel_graph.get_node_by_label(\"zweites Node\")\n",
    "drittes_node = beispiel_graph.get_node_by_label(\"drittes Node\")\n",
    "viertes_node = beispiel_graph.get_node_by_label(\"viertes Node\")"
   ]
  },
  {
   "cell_type": "markdown",
   "id": "c0855405",
   "metadata": {},
   "source": [
    "### Kanten Erstellen"
   ]
  },
  {
   "cell_type": "markdown",
   "id": "2ed58a96",
   "metadata": {},
   "source": [
    "Kante erstellen und diese zum Graphen hinzufügen"
   ]
  },
  {
   "cell_type": "code",
   "execution_count": 50,
   "id": "d774346e",
   "metadata": {},
   "outputs": [
    {
     "data": {
      "text/plain": [
       "Edge(zweites Node, erstes Node)"
      ]
     },
     "execution_count": 50,
     "metadata": {},
     "output_type": "execute_result"
    }
   ],
   "source": [
    "beispiel_edge = Edge(erstes_node, zweites_node)\n",
    "beispiel_graph.add_edge(beispiel_edge)"
   ]
  },
  {
   "cell_type": "markdown",
   "id": "c791f0e3",
   "metadata": {},
   "source": [
    "Zwei Kanten des Graphen direkt verbinden"
   ]
  },
  {
   "cell_type": "code",
   "execution_count": 51,
   "id": "5ea7302d",
   "metadata": {},
   "outputs": [
    {
     "data": {
      "text/plain": [
       "Edge(drittes Node, zweites Node)"
      ]
     },
     "execution_count": 51,
     "metadata": {},
     "output_type": "execute_result"
    }
   ],
   "source": [
    "beispiel_graph.add_edge(zweites_node, drittes_node)"
   ]
  },
  {
   "cell_type": "markdown",
   "id": "58c979a5",
   "metadata": {},
   "source": [
    "Mehrere Kanten auf einmal hinzufügen"
   ]
  },
  {
   "cell_type": "code",
   "execution_count": 52,
   "id": "fd32add1",
   "metadata": {},
   "outputs": [
    {
     "name": "stdout",
     "output_type": "stream",
     "text": [
      "Edge already exists.\n"
     ]
    },
    {
     "data": {
      "text/plain": [
       "[Edge(drittes Node, erstes Node), None]"
      ]
     },
     "execution_count": 52,
     "metadata": {},
     "output_type": "execute_result"
    }
   ],
   "source": [
    "edge_1 = Edge(erstes_node, drittes_node)\n",
    "edge_2 = Edge(drittes_node, zweites_node)\n",
    "beispiel_graph.add_edges([edge_1, edge_2])"
   ]
  },
  {
   "cell_type": "markdown",
   "id": "5ba72cdd",
   "metadata": {},
   "source": [
    "### Welche Kanten gibt es?"
   ]
  },
  {
   "cell_type": "code",
   "execution_count": 54,
   "id": "72a8b2d9",
   "metadata": {},
   "outputs": [],
   "source": [
    "node_1, node_2 = beispiel_graph.get_node_by_label(\"erstes Node\"), beispiel_graph.get_node_by_label(\"zweites Node\")"
   ]
  },
  {
   "cell_type": "markdown",
   "id": "968e4089",
   "metadata": {},
   "source": [
    "Ungerichtete, ungewichtete Kanten"
   ]
  },
  {
   "cell_type": "code",
   "execution_count": 56,
   "id": "a25b2fba",
   "metadata": {},
   "outputs": [
    {
     "data": {
      "text/plain": [
       "frozenset({Node(erstes Node), Node(zweites Node)})"
      ]
     },
     "execution_count": 56,
     "metadata": {},
     "output_type": "execute_result"
    }
   ],
   "source": [
    "edge = Edge(node_1, node_2)\n",
    "edge.get_endpoints()"
   ]
  },
  {
   "cell_type": "markdown",
   "id": "807ddb85",
   "metadata": {},
   "source": [
    "Gerichtete, ungewichtete Kanten"
   ]
  },
  {
   "cell_type": "code",
   "execution_count": 58,
   "id": "438c4c02",
   "metadata": {},
   "outputs": [
    {
     "data": {
      "text/plain": [
       "(Node(erstes Node), Node(zweites Node))"
      ]
     },
     "execution_count": 58,
     "metadata": {},
     "output_type": "execute_result"
    }
   ],
   "source": [
    "directed_edge = DirectedEdge(node_1, node_2)\n",
    "directed_edge.get_endpoints()"
   ]
  },
  {
   "cell_type": "code",
   "execution_count": 59,
   "id": "4e62d9f6",
   "metadata": {},
   "outputs": [
    {
     "data": {
      "text/plain": [
       "Node(zweites Node)"
      ]
     },
     "execution_count": 59,
     "metadata": {},
     "output_type": "execute_result"
    }
   ],
   "source": [
    "directed_edge.get_head_node()"
   ]
  },
  {
   "cell_type": "code",
   "execution_count": 60,
   "id": "c0566f8c",
   "metadata": {},
   "outputs": [
    {
     "data": {
      "text/plain": [
       "Node(erstes Node)"
      ]
     },
     "execution_count": 60,
     "metadata": {},
     "output_type": "execute_result"
    }
   ],
   "source": [
    "directed_edge.get_tail_node()"
   ]
  },
  {
   "cell_type": "markdown",
   "id": "d61aaf1c",
   "metadata": {},
   "source": [
    "Ungerichtete, gewichtete Kanten"
   ]
  },
  {
   "cell_type": "code",
   "execution_count": 61,
   "id": "bfabc19a",
   "metadata": {},
   "outputs": [
    {
     "data": {
      "text/plain": [
       "frozenset({Node(erstes Node), Node(zweites Node)})"
      ]
     },
     "execution_count": 61,
     "metadata": {},
     "output_type": "execute_result"
    }
   ],
   "source": [
    "weighted_edge = WeightedEdge(node_1, node_2, weight=1)\n",
    "weighted_edge.get_endpoints()"
   ]
  },
  {
   "cell_type": "code",
   "execution_count": 63,
   "id": "ae7370c4",
   "metadata": {},
   "outputs": [],
   "source": [
    "weighted_edge.weight += 3"
   ]
  },
  {
   "cell_type": "code",
   "execution_count": 64,
   "id": "a46d03ed",
   "metadata": {},
   "outputs": [
    {
     "data": {
      "text/plain": [
       "4"
      ]
     },
     "execution_count": 64,
     "metadata": {},
     "output_type": "execute_result"
    }
   ],
   "source": [
    "weighted_edge.weight"
   ]
  },
  {
   "cell_type": "markdown",
   "id": "c71a20bc",
   "metadata": {},
   "source": [
    "Gerichtete, gewichtete Kanten"
   ]
  },
  {
   "cell_type": "code",
   "execution_count": 65,
   "id": "9f61a821",
   "metadata": {},
   "outputs": [
    {
     "data": {
      "text/plain": [
       "1"
      ]
     },
     "execution_count": 65,
     "metadata": {},
     "output_type": "execute_result"
    }
   ],
   "source": [
    "directed_weighted_edge = DirectedWeightedEdge(node_1, node_2, weight=1)\n",
    "directed_weighted_edge.get_endpoints()\n",
    "directed_weighted_edge.get_head_node()\n",
    "directed_weighted_edge.get_tail_node()\n",
    "directed_weighted_edge.weight"
   ]
  },
  {
   "cell_type": "code",
   "execution_count": 66,
   "id": "3dd10ff2",
   "metadata": {},
   "outputs": [
    {
     "name": "stdout",
     "output_type": "stream",
     "text": [
      "Help on class Node in module datenstruktur.node:\n",
      "\n",
      "class Node(datenstruktur.interfaces.Node)\n",
      " |  Node(label) -> None\n",
      " |  \n",
      " |  See interfaces.Node class.\n",
      " |  \n",
      " |  Method resolution order:\n",
      " |      Node\n",
      " |      datenstruktur.interfaces.Node\n",
      " |      abc.ABC\n",
      " |      builtins.object\n",
      " |  \n",
      " |  Methods defined here:\n",
      " |  \n",
      " |  __eq__(self, other)\n",
      " |      Return self==value.\n",
      " |  \n",
      " |  __hash__(self) -> int\n",
      " |      Return hash(self).\n",
      " |  \n",
      " |  __init__(self, label) -> None\n",
      " |      Initialize self.  See help(type(self)) for accurate signature.\n",
      " |  \n",
      " |  __repr__(self) -> str\n",
      " |      Return repr(self).\n",
      " |  \n",
      " |  __str__(self) -> str\n",
      " |      Return str(self).\n",
      " |  \n",
      " |  get_neighbours(self)\n",
      " |      See interfaces.Node class.\n",
      " |  \n",
      " |  has_edge(self, to_node)\n",
      " |      See interfaces.Node class.\n",
      " |  \n",
      " |  ----------------------------------------------------------------------\n",
      " |  Readonly properties defined here:\n",
      " |  \n",
      " |  degree\n",
      " |      See interfaces.Node class.\n",
      " |  \n",
      " |  in_degree\n",
      " |      See interfaces.Node class.\n",
      " |  \n",
      " |  out_degree\n",
      " |      The out_degree attribute.\n",
      " |  \n",
      " |  ----------------------------------------------------------------------\n",
      " |  Data descriptors defined here:\n",
      " |  \n",
      " |  info\n",
      " |      See interfaces.Node class.\n",
      " |  \n",
      " |  visited\n",
      " |      See interfaces.Node class.\n",
      " |  \n",
      " |  ----------------------------------------------------------------------\n",
      " |  Data and other attributes defined here:\n",
      " |  \n",
      " |  __abstractmethods__ = frozenset()\n",
      " |  \n",
      " |  unique_id = count(22)\n",
      " |  \n",
      " |  ----------------------------------------------------------------------\n",
      " |  Data descriptors inherited from datenstruktur.interfaces.Node:\n",
      " |  \n",
      " |  __dict__\n",
      " |      dictionary for instance variables (if defined)\n",
      " |  \n",
      " |  __weakref__\n",
      " |      list of weak references to the object (if defined)\n",
      "\n"
     ]
    }
   ],
   "source": [
    "help(Node)"
   ]
  },
  {
   "cell_type": "code",
   "execution_count": null,
   "id": "bbf8916b",
   "metadata": {},
   "outputs": [],
   "source": []
  }
 ],
 "metadata": {
  "kernelspec": {
   "display_name": "Python 3 (ipykernel)",
   "language": "python",
   "name": "python3"
  },
  "language_info": {
   "codemirror_mode": {
    "name": "ipython",
    "version": 3
   },
   "file_extension": ".py",
   "mimetype": "text/x-python",
   "name": "python",
   "nbconvert_exporter": "python",
   "pygments_lexer": "ipython3",
   "version": "3.9.7"
  }
 },
 "nbformat": 4,
 "nbformat_minor": 5
}
